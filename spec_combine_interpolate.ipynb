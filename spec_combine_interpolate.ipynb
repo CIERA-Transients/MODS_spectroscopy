{
 "cells": [
  {
   "cell_type": "markdown",
   "metadata": {},
   "source": [
    "This notebook is meant for combining and reinterpolating spectra to prepare them for further analysis, as well as gerenating a three-column text or CSV file for reporting the final data. Any adjustments to boost cohesion or overall ease of use are welcome and appreciated!\n",
    "\n",
    "-Armaan Goyal"
   ]
  },
  {
   "cell_type": "code",
   "execution_count": 1,
   "metadata": {},
   "outputs": [],
   "source": [
    "import numpy as np\n",
    "import matplotlib.pyplot as plt\n",
    "from astropy.visualization import astropy_mpl_style\n",
    "import scipy\n",
    "from scipy.interpolate import interp1d\n",
    "import pandas as pd\n",
    "\n",
    "plt.style.use(astropy_mpl_style)\n",
    "\n",
    "def data_from_text(filename):\n",
    "    data = np.genfromtxt(filename, usecols = (0, 1))\n",
    "    wav, flux = np.split(data, 2, axis = 1)\n",
    "    flux = np.reshape(flux, len(flux))\n",
    "    wav = np.reshape(wav, len(wav))\n",
    "    return wav, flux"
   ]
  },
  {
   "cell_type": "markdown",
   "metadata": {},
   "source": [
    "The spec_interp routine is intended to reinterpolate and/or trim spectra to prepare them for combination with other files (either another exposure for the same data or another color channel). \n",
    "\n",
    "It is important to use the the same step size to reinterpolate all spectra that you intend to combine so that the final output file will have a uniform grid and will be consistent across all channels and exposures (a step size around 0.5-0.8 is recommended but anything close to 1 should provide quality resolution for the data). \n",
    "\n",
    "The interp parameter represents the type of interpolation desired and may be set to any of the functions described in the scipy.interpolate.interp1d documentation at https://docs.scipy.org/doc/scipy/reference/generated/scipy.interpolate.interp1d.html (\"cubic\" is highly reccommended).\n",
    "\n",
    "The low and high parameters are used to trim spectra to a desired wavelength region. If combining spectra from different color channels, choose their boundaries such that there is no overlap between them (max value for blue channel should be equal to min value of the red). "
   ]
  },
  {
   "cell_type": "code",
   "execution_count": 4,
   "metadata": {},
   "outputs": [],
   "source": [
    "def spec_interp(filename, interp, step, **kwargs):\n",
    "    '''\n",
    "    Parameters:\n",
    "    -----------\n",
    "    filename(str): name of input text file\n",
    "    interp (str): type of interpolation desired, options at https://docs.scipy.org/doc/scipy/reference/generated/scipy.interpolate.interp1d.html\n",
    "    step (float): step size for interpolation, value of 1 or less is reccommended\n",
    "    low/high (float, optional): wavelength bounds for trimming of spectrum\n",
    "    save_as (str, optional): desired filename for output\n",
    "    \n",
    "    Returns:\n",
    "    --------\n",
    "    Reinterpolated/trimmed spectrum (with optional output as text file).\n",
    "    \n",
    "    '''\n",
    "    low = kwargs.get(\"low\", None)\n",
    "    high = kwargs.get(\"high\", None)\n",
    "    save_as = kwargs.get(\"save_as\", None)\n",
    "    wav, flux = data_from_text(filename)\n",
    "    if low:\n",
    "        bool_arr = (wav >= low)\n",
    "        wav, flux = wav[bool_arr], flux[bool_arr]\n",
    "    if high:\n",
    "        bool_arr = (wav <= high)\n",
    "        wav, flux = wav[bool_arr], flux[bool_arr]\n",
    "    interpolant = interp1d(wav, flux, kind = interp)\n",
    "    new_wav = np.arange(min(wav), max(wav), step)\n",
    "    new_flux = interpolant(new_wav)\n",
    "    if save_as:\n",
    "        output = np.column_stack((new_wav, new_flux))\n",
    "        np.savetxt(save_as, output)\n",
    "    return (new_wav, new_flux)\n",
    "\n",
    "spec_interp(\"finalspec_red_1\", interp = \"cubic\", .85, low = 5600, high = 10000, save_as = \"final_spec_red_1_interp\")"
   ]
  },
  {
   "cell_type": "markdown",
   "metadata": {},
   "source": [
    "The spec_combine function allows for average/median combining of multiple spectra with an optional sigma clipping algorithm. Ensure that all spectra that are being passed into the routine have the same bounds and the same number of points. "
   ]
  },
  {
   "cell_type": "code",
   "execution_count": 5,
   "metadata": {},
   "outputs": [],
   "source": [
    "def spec_combine(filenames, combine, **kwargs):\n",
    "    '''    \n",
    "    Parameters:\n",
    "    -----------\n",
    "    filenames (list of str): names of input text files\n",
    "    combine (str): type of combination desired, \"avg\" for average and \"med\" for median\n",
    "    sigclip (tuple of float, optional): low/high sigma values for sigma clipping algorithm (absolute value, do not input negative number for lower sigma)\n",
    "    save_as (str, optional): desired filename for output\n",
    "    \n",
    "    Returns:\n",
    "    --------\n",
    "    Combined spectrum (with optional output as text file).\n",
    "    \n",
    "    '''\n",
    "    sigclip = kwargs.get(\"sigclip\", None)\n",
    "    save_as = kwargs.get(\"save_as\", None)\n",
    "    arr = []\n",
    "    all_inds = []\n",
    "    for file in filenames:\n",
    "        wav, flux = data_from_text(file)\n",
    "        if sigclip:\n",
    "            med, std = np.mean(flux), np.std(flux)\n",
    "            clip = (flux >= med - sigclip[0]*std) & (flux <= med + sigclip[1]*std)\n",
    "            inds = np.where(clip)\n",
    "            all_inds.append(inds)\n",
    "        else:\n",
    "            arr.append(flux)\n",
    "    if sigclip:\n",
    "        all_inds = np.hstack(all_inds)\n",
    "        all_inds = np.unique(all_inds)\n",
    "        for file in filenames:\n",
    "            wav, flux = data_from_text(file)\n",
    "            wav, flux = wav[all_inds], flux[all_inds]\n",
    "            arr.append(flux)\n",
    "    if combine == \"med\":\n",
    "        comb_flux = np.median(np.vstack(arr), axis = 0)\n",
    "    if combine == \"avg\":\n",
    "        comb_flux = np.mean(np.vstack(arr), axis = 0)\n",
    "    if save_as:\n",
    "        output = np.column_stack((wav, comb_flux))\n",
    "        np.savetxt(save_as, output)\n",
    "    return (wav, comb_flux)\n",
    "\n",
    "spec_combine([\"finalspec_red_1\", \"finalspec_red_2\"], combine = \"avg\", sigclip = (3, 3), save_as = \"red_combined\")"
   ]
  },
  {
   "cell_type": "markdown",
   "metadata": {},
   "source": [
    "The followign is a simple routine for concatenating text files corresponding to spectra for different color channels. Ensure again before using the function that the wavelength values of the channels do not overlap."
   ]
  },
  {
   "cell_type": "code",
   "execution_count": 6,
   "metadata": {},
   "outputs": [],
   "source": [
    "def spec_concat(filenames, save_as):\n",
    "    wav_arr = []\n",
    "    flux_arr = []\n",
    "    for file in filenames:\n",
    "        wav, flux = data_from_text(file)\n",
    "        wav_arr.append(wav)\n",
    "        flux_arr.append(flux)\n",
    "    wav_arr = np.hstack(wav_arr)\n",
    "    flux_arr = np.hstack(flux_arr)\n",
    "    output = np.column_stack((wav_arr, flux_arr))\n",
    "    np.savetxt(save_as, output)\n",
    "    return output\n",
    "\n",
    "spec_concat([\"blue_spec\", \"red_spec\"], \"finalspec\")"
   ]
  },
  {
   "cell_type": "markdown",
   "metadata": {},
   "source": [
    "Here are tasks for consolidating the final object and error spectra into a three-column text file and (if desired) saving the data in CSV form as well."
   ]
  },
  {
   "cell_type": "code",
   "execution_count": 7,
   "metadata": {},
   "outputs": [],
   "source": [
    "def three_column(data, error, save_name):\n",
    "    wav, flux = data_from_text(data)\n",
    "    wav, err = data_from_text(error)\n",
    "    output = np.column_stack((wav, flux, err))\n",
    "    np.savetxt(save_name, output)\n",
    "    \n",
    "three_column(\"finalspec_ext_norm\", \"error_ext_norm_norm\", \"grb141031b\")\n",
    "\n",
    "def make_csv(file, save_as):\n",
    "    data = np.genfromtxt(file)\n",
    "    pd.DataFrame(data).to_csv(save_as)\n",
    "    return data\n",
    "\n",
    "make_csv(\"grb141031b\", \"grb141031b.csv\")"
   ]
  },
  {
   "cell_type": "markdown",
   "metadata": {},
   "source": [
    "Finally, this combine_errs taks should only be used if provided with individual error spectra for multiple exposures without access to the original data. This routine will combine the error spectra in accordance with proper error propagation and provides an option to save the output as a new file. This error spectrum should then be trimmed/reinterpolated accordingly so that it aligns with the object spectrum."
   ]
  },
  {
   "cell_type": "code",
   "execution_count": 8,
   "metadata": {},
   "outputs": [],
   "source": [
    "def combine_errs(files, **kwargs):\n",
    "    save_as = kwargs.get(\"save_as\", None)\n",
    "    arr = []\n",
    "    for f in files:\n",
    "        wav, flux = data_from_text(f)\n",
    "        arr.append(flux)\n",
    "    num = len(arr)\n",
    "    arr = np.sqrt(np.sum(np.vstack(arr)**2, axis = 0))/num\n",
    "    if save_as:\n",
    "        output = np.column_stack((wav, arr))\n",
    "        np.savetxt(save_as, output)\n",
    "    return arr\n",
    "\n",
    "combine_errs([\"error_1\", \"error_2\"], \"final_error\")"
   ]
  }
 ],
 "metadata": {
  "kernelspec": {
   "display_name": "Python 3",
   "language": "python",
   "name": "python3"
  },
  "language_info": {
   "codemirror_mode": {
    "name": "ipython",
    "version": 3
   },
   "file_extension": ".py",
   "mimetype": "text/x-python",
   "name": "python",
   "nbconvert_exporter": "python",
   "pygments_lexer": "ipython3",
   "version": "3.7.6"
  }
 },
 "nbformat": 4,
 "nbformat_minor": 4
}
